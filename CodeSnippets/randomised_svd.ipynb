{
 "cells": [
  {
   "cell_type": "code",
   "execution_count": 1,
   "metadata": {},
   "outputs": [],
   "source": [
    "import numpy as np"
   ]
  },
  {
   "cell_type": "code",
   "execution_count": 2,
   "metadata": {},
   "outputs": [],
   "source": [
    "\n",
    "def rsvd(X, r, q, p):\n",
    "    # X: data matrix\n",
    "    # r: rank\n",
    "    # q: number of iterations\n",
    "    # p: number of samples\n",
    "\n",
    "    # returns U, S, VT\n",
    "\n",
    "    # Sample column space of X with P matrix\n",
    "    ny = X.shape[1]\n",
    "    P = np.random.randn(ny, r+p)\n",
    "    Z = X@P\n",
    "    for i in range(q):\n",
    "        Z = X@(X.T@Z)\n",
    "    \n",
    "    Q, R = np.linalg.qr(Z)\n",
    "\n",
    "    # compute the svd on projected Y= Q.T@X\n",
    "    U, S, VT = np.linalg.svd(Q.T@X, full_matrices=False)\n",
    "    return U, S, VT\n",
    "    "
   ]
  },
  {
   "cell_type": "code",
   "execution_count": 10,
   "metadata": {},
   "outputs": [
    {
     "name": "stdout",
     "output_type": "stream",
     "text": [
      "(20, 20) (20,) (20, 100)\n"
     ]
    }
   ],
   "source": [
    "# test the rsvd algorithm\n",
    "X = np.random.randn(100, 100)\n",
    "U, S, VT = rsvd(X, 10, 3, 10)\n",
    "print(U.shape, S.shape, VT.shape)"
   ]
  },
  {
   "cell_type": "code",
   "execution_count": null,
   "metadata": {},
   "outputs": [],
   "source": []
  }
 ],
 "metadata": {
  "interpreter": {
   "hash": "e7370f93d1d0cde622a1f8e1c04877d8463912d04d973331ad4851f04de6915a"
  },
  "kernelspec": {
   "display_name": "Python 3.10.2 64-bit",
   "language": "python",
   "name": "python3"
  },
  "language_info": {
   "codemirror_mode": {
    "name": "ipython",
    "version": 3
   },
   "file_extension": ".py",
   "mimetype": "text/x-python",
   "name": "python",
   "nbconvert_exporter": "python",
   "pygments_lexer": "ipython3",
   "version": "3.10.2"
  },
  "orig_nbformat": 4
 },
 "nbformat": 4,
 "nbformat_minor": 2
}
