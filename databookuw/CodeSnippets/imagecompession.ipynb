{
 "cells": [
  {
   "cell_type": "code",
   "execution_count": 5,
   "id": "d5c631c6-7284-4b3e-a538-825ce67c99f4",
   "metadata": {},
   "outputs": [],
   "source": [
    "import matplotlib.pyplot as plt\n",
    "from matplotlib.image import imread\n",
    "import numpy as np\n",
    "import os"
   ]
  },
  {
   "cell_type": "code",
   "execution_count": 11,
   "id": "a28c0b49-4a16-4b6d-b848-0b6b53cd1d6e",
   "metadata": {},
   "outputs": [],
   "source": [
    "A = imread('Documents/AI_Docs/DL/DeepLearning/CodeSnippets/a.jpg')"
   ]
  },
  {
   "cell_type": "code",
   "execution_count": null,
   "id": "67a99f04-4ba1-46d5-8db1-eef6920147d4",
   "metadata": {},
   "outputs": [],
   "source": []
  }
 ],
 "metadata": {
  "kernelspec": {
   "display_name": "Python 3 (ipykernel)",
   "language": "python",
   "name": "python3"
  },
  "language_info": {
   "codemirror_mode": {
    "name": "ipython",
    "version": 3
   },
   "file_extension": ".py",
   "mimetype": "text/x-python",
   "name": "python",
   "nbconvert_exporter": "python",
   "pygments_lexer": "ipython3",
   "version": "3.9.7"
  }
 },
 "nbformat": 4,
 "nbformat_minor": 5
}
